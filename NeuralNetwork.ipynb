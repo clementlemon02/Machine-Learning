{
  "cells": [
    {
      "cell_type": "code",
      "execution_count": null,
      "metadata": {
        "id": "kuzTFbwJJ3pR"
      },
      "outputs": [],
      "source": [
        "import numpy as np\n",
        "import matplotlib.pyplot as plt\n",
        "import tensorflow as tf\n",
        " "
      ]
    },
    {
      "cell_type": "code",
      "execution_count": null,
      "metadata": {
        "id": "L7eDL4bALx9C"
      },
      "outputs": [],
      "source": [
        "def load_mnist_dataset():\n",
        "  '''\n",
        "  RETURN\n",
        "    x_train: numpy array\n",
        "    y_train: numpy array\n",
        "    x_test: numpy array\n",
        "    y_test: numpy array\n",
        "  '''\n",
        "  x_train, y_train, x_test, y_test = None, None, None, None\n",
        "  # START CODE HERE\n",
        "  (x_train, y_train), (x_test, y_test) = tf.keras.datasets.mnist.load_data()\n",
        "   \n",
        "  # END CODE HERE\n",
        "  return x_train, y_train, x_test, y_test\n",
        "\n",
        "x_train, y_train, x_test, y_test = load_mnist_dataset()"
      ]
    },
    {
      "cell_type": "code",
      "execution_count": null,
      "metadata": {
        "colab": {
          "base_uri": "https://localhost:8080/"
        },
        "id": "VTL_8LsHQFvR",
        "outputId": "dd619077-f212-483f-ed14-490310d0c0a3"
      },
      "outputs": [
        {
          "name": "stdout",
          "output_type": "stream",
          "text": [
            "Shape of training set:  (60000, 28, 28)\n",
            "Shape of testing set:  (10000, 28, 28)\n",
            "Shape of training labels:  (60000,)\n",
            "Shape of testing labels:  (10000,)\n"
          ]
        }
      ],
      "source": [
        "print(\"Shape of training set: \", x_train.shape)\n",
        "print(\"Shape of testing set: \", x_test.shape)\n",
        "print(\"Shape of training labels: \", y_train.shape)\n",
        "print(\"Shape of testing labels: \", y_test.shape)"
      ]
    },
    {
      "cell_type": "code",
      "execution_count": null,
      "metadata": {
        "colab": {
          "base_uri": "https://localhost:8080/",
          "height": 265
        },
        "id": "hIEwevCnQWJ6",
        "outputId": "f11edb34-936e-4ba2-809d-7eff81c1f45a"
      },
      "outputs": [
        {
          "data": {
            "image/png": "[encoded data removed]",
            "text/plain": [
              "<Figure size 432x288 with 1 Axes>"
            ]
          },
          "metadata": {
            "needs_background": "light"
          },
          "output_type": "display_data"
        }
      ],
      "source": [
        "plt.imshow(x_train[0])\n",
        "plt.show()"
      ]
    },
    {
      "cell_type": "code",
      "execution_count": null,
      "metadata": {
        "id": "wtNnd9d8S4Tb"
      },
      "outputs": [],
      "source": [
        "def one_hot_encoding(y_array):\n",
        "  '''\n",
        "  y_array: numpy array, shape = [N,]\n",
        "  RETURN\n",
        "    y_encoded_array: numpy array, shape = [N, 10]\n",
        "  '''\n",
        "  y_encoded_array = None\n",
        "  \n",
        "  #START CODE HERE\n",
        "  y_encoded_array = []\n",
        "  for i in y_array:\n",
        "    arr = np.zeros(10)\n",
        "    arr[i] = 1\n",
        "    y_encoded_array.append(arr)\n",
        "  y_encoded_array = np.array(y_encoded_array)\n",
        "  \n",
        "  #END CODE HERE\n",
        "  \n",
        "  return y_encoded_array\n",
        "  "
      ]
    },
    {
      "cell_type": "code",
      "execution_count": null,
      "metadata": {
        "colab": {
          "base_uri": "https://localhost:8080/"
        },
        "id": "J1euQRQ_trsa",
        "outputId": "8b9df435-84e1-4750-81d5-4fdab815a33f"
      },
      "outputs": [
        {
          "name": "stdout",
          "output_type": "stream",
          "text": [
            "1 becomes [0. 1. 0. 0. 0. 0. 0. 0. 0. 0.]\n",
            "5 becomes [0. 0. 0. 0. 0. 1. 0. 0. 0. 0.]\n"
          ]
        }
      ],
      "source": [
        "y_encoded_train = one_hot_encoding(y_train)\n",
        "y_encoded_test = one_hot_encoding(y_test)\n",
        "\n",
        "print(\"{} becomes {}\".format(y_train[3],y_encoded_train[3]))\n",
        "print(\"{} becomes {}\".format(y_test[45],y_encoded_test[45]))"
      ]
    },
    {
      "cell_type": "code",
      "execution_count": null,
      "metadata": {
        "id": "M7TN-Li8S4-d"
      },
      "outputs": [],
      "source": [
        "def reshape_x(X):\n",
        "  '''\n",
        "  x: numpy array, shape = [N, 28, 28]\n",
        "  RETURN \n",
        "    x_reshape: numpy array, shape = [N, 784,]\n",
        "  '''\n",
        "  X_reshape = None\n",
        "  \n",
        "  # START CODE HERE\n",
        "  new_shape = X.shape[1]*X.shape[2]\n",
        "  X_reshape = X.reshape(X.shape[0],new_shape)\n",
        "  \n",
        "  \n",
        "  # END CODE HERE\n",
        "  \n",
        "  return X_reshape\n"
      ]
    },
    {
      "cell_type": "code",
      "execution_count": null,
      "metadata": {
        "colab": {
          "base_uri": "https://localhost:8080/"
        },
        "id": "MWc1HuPGVDPH",
        "outputId": "313f9b54-2c93-4210-8330-54f3c6fd3739"
      },
      "outputs": [
        {
          "name": "stdout",
          "output_type": "stream",
          "text": [
            "Shape of the reshaped training set images:  (60000, 784)\n",
            "Shapeh of the reshaped testing set images:  (10000, 784)\n"
          ]
        }
      ],
      "source": [
        "x_train_reshape = reshape_x(x_train)\n",
        "x_test_reshape = reshape_x(x_test)\n",
        "\n",
        "print(\"Shape of the reshaped training set images: \", x_train_reshape.shape)\n",
        "print(\"Shapeh of the reshaped testing set images: \", x_test_reshape.shape)"
      ]
    },
    {
      "cell_type": "code",
      "execution_count": null,
      "metadata": {
        "id": "eSdVALMUK4w5"
      },
      "outputs": [],
      "source": [
        "def standardize_dataset(X):\n",
        "  '''\n",
        "  X: numpy array, shape = [N, D]\n",
        "  RETURN\n",
        "    X_std: numpy array, shape = [N, D]\n",
        "  '''\n",
        "  X_std = None\n",
        "  # START CODE HERE\n",
        "  \n",
        "    \n",
        "  \n",
        "  X_std = (X - np.mean(X))/np.std(X)\n",
        "\n",
        "  \n",
        "  # END CODE HERE\n",
        "\n",
        "  return X_std\n"
      ]
    },
    {
      "cell_type": "code",
      "execution_count": null,
      "metadata": {
        "colab": {
          "base_uri": "https://localhost:8080/"
        },
        "id": "zTnMILN7Rndl",
        "outputId": "42e1dcdf-52c0-41a0-9e49-a753406e3ee4"
      },
      "outputs": [
        {
          "name": "stdout",
          "output_type": "stream",
          "text": [
            "(60000, 784)\n",
            "(10000, 784)\n",
            "-0.424073894391566 0.22504955362461426\n",
            "-0.42680526933869534 2.7687502268907367\n"
          ]
        }
      ],
      "source": [
        "x_train_std = standardize_dataset(x_train_reshape)\n",
        "x_test_std = standardize_dataset(x_test_reshape)\n",
        "print(x_train_reshape.shape)\n",
        "print(x_test_reshape.shape)\n",
        "print(x_train_std[0][0], x_train_std[1][127])\n",
        "print(x_test_std[0][0], x_test_std[1][127])"
      ]
    },
    {
      "cell_type": "code",
      "execution_count": null,
      "metadata": {
        "colab": {
          "base_uri": "https://localhost:8080/"
        },
        "id": "VUKBJ4YqYDNk",
        "outputId": "bb9ae509-8fad-4a04-f9e8-9980ff7ee5c5"
      },
      "outputs": [
        {
          "name": "stdout",
          "output_type": "stream",
          "text": [
            "Using tensorflow version 2.9.2\n",
            "Using keras version 2.9.0\n"
          ]
        }
      ],
      "source": [
        "# Importing the Keras main module forcing tensorflow 1.x backend\n",
        "import keras\n",
        "import tensorflow as tf\n",
        "from keras.datasets import mnist\n",
        "from keras.utils.np_utils import to_categorical\n",
        "from keras import optimizers\n",
        "from keras.models import Sequential\n",
        "from keras.layers import Dense, Activation, Flatten\n",
        "\n",
        "print(\"Using tensorflow version \" + str(tf.__version__))\n",
        "print(\"Using keras version \" + str(keras.__version__))"
      ]
    },
    {
      "cell_type": "code",
      "execution_count": null,
      "metadata": {
        "id": "9gkdtmNHvrEC"
      },
      "outputs": [],
      "source": [
        "# initialize the neural network under the name `model`\n",
        "model = None\n",
        "\n",
        "# START CODE HERE\n",
        "\n",
        "model = keras.models.Sequential()\n",
        " \n",
        "model.add(Dense(300, input_shape = (784,)))\n",
        "model.add(Activation(\"sigmoid\"))\n",
        "model.add(Dense(300))\n",
        "model.add(Activation(\"relu\"))\n",
        "model.add(Dense(10))\n",
        "model.add(Activation(\"softmax\"))\n",
        "\n",
        "\n",
        "\n",
        "\n",
        "# END CODE HERE"
      ]
    },
    {
      "cell_type": "code",
      "execution_count": null,
      "metadata": {
        "colab": {
          "base_uri": "https://localhost:8080/"
        },
        "id": "f89bGphuzVtx",
        "outputId": "38c3b80a-516f-4faa-8d38-ac08f3e7e769"
      },
      "outputs": [
        {
          "name": "stdout",
          "output_type": "stream",
          "text": [
            "Model: \"sequential_7\"\n",
            "_________________________________________________________________\n",
            " Layer (type)                Output Shape              Param #   \n",
            "=================================================================\n",
            " dense_17 (Dense)            (None, 300)               235500    \n",
            "                                                                 \n",
            " activation_15 (Activation)  (None, 300)               0         \n",
            "                                                                 \n",
            " dense_18 (Dense)            (None, 300)               90300     \n",
            "                                                                 \n",
            " activation_16 (Activation)  (None, 300)               0         \n",
            "                                                                 \n",
            " dense_19 (Dense)            (None, 10)                3010      \n",
            "                                                                 \n",
            " activation_17 (Activation)  (None, 10)                0         \n",
            "                                                                 \n",
            "=================================================================\n",
            "Total params: 328,810\n",
            "Trainable params: 328,810\n",
            "Non-trainable params: 0\n",
            "_________________________________________________________________\n"
          ]
        }
      ],
      "source": [
        "model.summary()"
      ]
    },
    {
      "cell_type": "code",
      "execution_count": null,
      "metadata": {
        "colab": {
          "base_uri": "https://localhost:8080/"
        },
        "id": "vIeow_5L16Lz",
        "outputId": "d82e6ff9-2f42-4411-a2ef-48aaa953ecdf"
      },
      "outputs": [
        {
          "name": "stdout",
          "output_type": "stream",
          "text": [
            "Epoch 1/10\n",
            "6000/6000 [==============================] - 26s 4ms/step - loss: 0.4163 - accuracy: 0.8831 - val_loss: 0.2604 - val_accuracy: 0.9249\n",
            "Epoch 2/10\n",
            "6000/6000 [==============================] - 21s 4ms/step - loss: 0.2252 - accuracy: 0.9338 - val_loss: 0.1893 - val_accuracy: 0.9447\n",
            "Epoch 3/10\n",
            "6000/6000 [==============================] - 24s 4ms/step - loss: 0.1704 - accuracy: 0.9503 - val_loss: 0.1531 - val_accuracy: 0.9540\n",
            "Epoch 4/10\n",
            "6000/6000 [==============================] - 23s 4ms/step - loss: 0.1363 - accuracy: 0.9602 - val_loss: 0.1389 - val_accuracy: 0.9597\n",
            "Epoch 5/10\n",
            "6000/6000 [==============================] - 24s 4ms/step - loss: 0.1126 - accuracy: 0.9667 - val_loss: 0.1125 - val_accuracy: 0.9670\n",
            "Epoch 6/10\n",
            "6000/6000 [==============================] - 24s 4ms/step - loss: 0.0956 - accuracy: 0.9722 - val_loss: 0.1041 - val_accuracy: 0.9682\n",
            "Epoch 7/10\n",
            "6000/6000 [==============================] - 23s 4ms/step - loss: 0.0819 - accuracy: 0.9764 - val_loss: 0.0949 - val_accuracy: 0.9716\n",
            "Epoch 8/10\n",
            "6000/6000 [==============================] - 23s 4ms/step - loss: 0.0709 - accuracy: 0.9794 - val_loss: 0.0923 - val_accuracy: 0.9719\n",
            "Epoch 9/10\n",
            "6000/6000 [==============================] - 23s 4ms/step - loss: 0.0623 - accuracy: 0.9824 - val_loss: 0.0874 - val_accuracy: 0.9733\n",
            "Epoch 10/10\n",
            "6000/6000 [==============================] - 23s 4ms/step - loss: 0.0543 - accuracy: 0.9846 - val_loss: 0.0806 - val_accuracy: 0.9740\n"
          ]
        }
      ],
      "source": [
        "opt = tf.optimizers.SGD(learning_rate=0.01)\n",
        "model.compile(loss='categorical_crossentropy', optimizer=opt, metrics=['accuracy'])\n",
        "\n",
        "history = None\n",
        "# START CODE HERE\n",
        "epochs = 10\n",
        "history = model.fit(x_train_std, y_encoded_train, batch_size=10, validation_data=[x_test_std, y_encoded_test], epochs=epochs,validation_split=0.1)\n",
        "# END CODE HERE"
      ]
    },
    {
      "cell_type": "code",
      "execution_count": null,
      "metadata": {
        "colab": {
          "base_uri": "https://localhost:8080/",
          "height": 513
        },
        "id": "WI0xUNUmz8Gt",
        "outputId": "d493682b-22e2-417c-aedb-803de870e56f"
      },
      "outputs": [
        {
          "data": {
            "image/png": "[encoded data removed]",
            "text/plain": [
              "<Figure size 432x288 with 1 Axes>"
            ]
          },
          "metadata": {
            "needs_background": "light"
          },
          "output_type": "display_data"
        },
        {
          "data": {
            "image/png": "[encoded data removed]",
            "text/plain": [
              "<Figure size 432x288 with 1 Axes>"
            ]
          },
          "metadata": {
            "needs_background": "light"
          },
          "output_type": "display_data"
        }
      ],
      "source": [
        "# History for loss\n",
        "train_loss = history.history[\"loss\"]\n",
        "test_loss = history.history[\"val_loss\"]\n",
        "# START CODE HERE\n",
        " \n",
        "plt.plot(train_loss,color='blue', label=\"training_set\")\n",
        "plt.plot(test_loss, color='orange',label=\"testing_set\")\n",
        "plt.legend([\"training_set\",\"testing_set\"])\n",
        "\n",
        "# END CODE HERE\n",
        "plt.show()\n",
        "\n",
        "\n",
        "# History for accuracy\n",
        "train_acc= history.history[\"accuracy\"]\n",
        "test_acc = history.history[\"val_accuracy\"]\n",
        "# START CODE HERE\n",
        " \n",
        "plt.plot(train_acc, color='blue', label='training_set')\n",
        "plt.plot(test_acc, color='orange', label='testing_set')\n",
        "plt.legend([\"training_set\",\"testing_set\"])\n",
        "\n",
        "# END CODE HERE\n",
        "plt.show()\n"
      ]
    },
    {
      "cell_type": "code",
      "execution_count": null,
      "metadata": {
        "colab": {
          "base_uri": "https://localhost:8080/",
          "height": 300
        },
        "id": "HJOZYGZrTggX",
        "outputId": "eb54ece6-7714-4b85-9a05-1a2f964af047"
      },
      "outputs": [
        {
          "name": "stdout",
          "output_type": "stream",
          "text": [
            "313/313 [==============================] - 1s 2ms/step\n",
            "According to your model, the handwritten number shown is 7.\n"
          ]
        },
        {
          "data": {
            "image/png": "[encoded data removed]",
            "text/plain": [
              "<Figure size 432x288 with 1 Axes>"
            ]
          },
          "metadata": {
            "needs_background": "light"
          },
          "output_type": "display_data"
        }
      ],
      "source": [
        "plt.imshow(x_test[0])\n",
        "print(\"According to your model, the handwritten number shown is {}.\".format(np.argmax(model.predict(x_test_reshape)[0])))"
      ]
    },
    {
      "cell_type": "code",
      "execution_count": null,
      "metadata": {
        "colab": {
          "base_uri": "https://localhost:8080/",
          "height": 300
        },
        "id": "0wmNUYQKTpPS",
        "outputId": "ca37a6f6-38d1-461b-a8f2-94a7adf9f74f"
      },
      "outputs": [
        {
          "name": "stdout",
          "output_type": "stream",
          "text": [
            "313/313 [==============================] - 1s 3ms/step\n",
            "According to your model, the handwritten number shown is 6.\n"
          ]
        },
        {
          "data": {
            "image/png": "[encoded data removed]",
            "text/plain": [
              "<Figure size 432x288 with 1 Axes>"
            ]
          },
          "metadata": {
            "needs_background": "light"
          },
          "output_type": "display_data"
        }
      ],
      "source": [
        "plt.imshow(x_test[587])\n",
        "print(\"According to your model, the handwritten number shown is {}.\".format(np.argmax(model.predict(x_test_reshape)[587])))"
      ]
    }
  ],
  "metadata": {
    "colab": {
      "provenance": []
    },
    "kernelspec": {
      "display_name": "Python 3",
      "name": "python3"
    },
    "language_info": {
      "name": "python"
    }
  },
  "nbformat": 4,
  "nbformat_minor": 0
}
