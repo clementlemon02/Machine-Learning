{
  "cells": [
    {
      "cell_type": "code",
      "execution_count": null,
      "metadata": {
        "execution": {
          "iopub.execute_input": "2022-07-26T07:36:58.063906Z",
          "iopub.status.busy": "2022-07-26T07:36:58.063608Z",
          "iopub.status.idle": "2022-07-26T07:36:58.474599Z",
          "shell.execute_reply": "2022-07-26T07:36:58.473786Z",
          "shell.execute_reply.started": "2022-07-26T07:36:58.063839Z"
        },
        "id": "Og4vGG41a3tr",
        "tags": []
      },
      "outputs": [],
      "source": [
        "import csv\n",
        "import numpy as np\n",
        "import math\n",
        "\n",
        "# to display the float numbers with 2 decimal points and supress the use of\n",
        "# scientific notations for small numbers\n",
        "np.set_printoptions(precision=2, suppress=True)\n",
        "\n",
        "# You can use X_COLUMN_NAMES and Y_COLUMN_NAME to extract the relevant information from the CSV files\n",
        "X_COLUMN_NAMES = [\n",
        "    \"age\",\n",
        "    \"Medu\",\n",
        "    \"Fedu\",\n",
        "    \"traveltime\",\n",
        "    \"studytime\",\n",
        "    \"failures\",\n",
        "    \"famrel\",\n",
        "    \"freetime\",\n",
        "    \"goout\",\n",
        "    \"Dalc\",\n",
        "    \"Walc\",\n",
        "    \"health\",\n",
        "    \"absences\",\n",
        "]\n",
        "Y_COLUMN_NAME = \"G3\"\n",
        "\n",
        "# function to load the student dataset into X and y numpy arrays\n",
        "def load_student_data(filename):\n",
        "    \"\"\"\n",
        "  filename: string, the path of the student-mat.csv dataset\n",
        "  RETURN\n",
        "    X: numpy array: shape = [N, D]\n",
        "    y: numpy array: shape = [N]\n",
        "  \"\"\"\n",
        "    X, y = [], []\n",
        "    x_index, y_index = [], [] \n",
        "     \n",
        "    ## start your code here\n",
        "    with open(filename, newline='') as csv_file:\n",
        "      csv_reader = csv.reader(csv_file, delimiter = \";\")\n",
        "      header = next(csv_reader)\n",
        "       \n",
        "      for idx, col in enumerate(header):\n",
        "        if col in X_COLUMN_NAMES:\n",
        "          x_index += [idx,]\n",
        "        if col in Y_COLUMN_NAME:\n",
        "          y_index += [idx,]\n",
        "      \n",
        "      for row in csv_reader:\n",
        "        x=[]\n",
        "        for i, j in enumerate(row):\n",
        "          if i in x_index:\n",
        "            x += [float(j),]\n",
        "          if i in y_index:\n",
        "            y += [float(j),]\n",
        "        X.append(x)\n",
        "    X = np.asarray(X)\n",
        "    y = np.asarray(y)\n",
        "\n",
        "    return X,y"
      ]
    },
    {
      "cell_type": "code",
      "execution_count": null,
      "metadata": {
        "colab": {
          "base_uri": "https://localhost:8080/"
        },
        "execution": {
          "iopub.execute_input": "2022-07-26T07:36:58.476163Z",
          "iopub.status.busy": "2022-07-26T07:36:58.475712Z",
          "iopub.status.idle": "2022-07-26T07:36:58.510627Z",
          "shell.execute_reply": "2022-07-26T07:36:58.509902Z",
          "shell.execute_reply.started": "2022-07-26T07:36:58.476138Z"
        },
        "id": "LI82k6pmz7Bn",
        "outputId": "aaba3fe9-cde1-4d9b-b08a-8967f84ca2a1",
        "tags": []
      },
      "outputs": [
        {
          "name": "stdout",
          "output_type": "stream",
          "text": [
            "1.0 14.0 4.0\n",
            "6.0 5.0 6.0\n",
            "(395, 13) (395,)\n"
          ]
        }
      ],
      "source": [
        "# driver program to test the load_student_data() function\n",
        "\n",
        "filename = \"/content/student-mat.csv\"\n",
        "\n",
        "X, y = load_student_data(filename)\n",
        "\n",
        "print(X[1][10], X[100, 12], X[177][12])\n",
        "print(y[1], y[100], y[177])\n",
        "print(X.shape, y.shape)"
      ]
    },
    {
      "cell_type": "code",
      "execution_count": null,
      "metadata": {
        "execution": {
          "iopub.execute_input": "2022-07-26T07:36:58.515692Z",
          "iopub.status.busy": "2022-07-26T07:36:58.514994Z",
          "iopub.status.idle": "2022-07-26T07:36:58.530017Z",
          "shell.execute_reply": "2022-07-26T07:36:58.529192Z",
          "shell.execute_reply.started": "2022-07-26T07:36:58.515655Z"
        },
        "id": "y-6vqu5m1jUH",
        "tags": []
      },
      "outputs": [],
      "source": [
        "# function to standardize the dataset.\n",
        " \n",
        "\n",
        "def standardizeDataset(X):\n",
        "    \"\"\"\n",
        "  X: numpy array, shape = [N,D]\n",
        "  RETURN\n",
        "    Xstd: numpy array, shape = [N,D]\n",
        "  \"\"\"\n",
        "    Xstd = np.zeros_like(X)\n",
        "    ## start your code here\n",
        "    for i in range(X.shape[1]):\n",
        "      arr = X[:,i]\n",
        "      mean = arr.mean()\n",
        "      std = arr.std()\n",
        "      standardX = (arr-mean)/ std\n",
        "      Xstd[:,i] = standardX\n",
        "   \n",
        "    ## end\n",
        "    return Xstd"
      ]
    },
    {
      "cell_type": "code",
      "execution_count": null,
      "metadata": {
        "colab": {
          "base_uri": "https://localhost:8080/"
        },
        "execution": {
          "iopub.execute_input": "2022-07-26T07:36:58.531545Z",
          "iopub.status.busy": "2022-07-26T07:36:58.531090Z",
          "iopub.status.idle": "2022-07-26T07:36:58.544619Z",
          "shell.execute_reply": "2022-07-26T07:36:58.543755Z",
          "shell.execute_reply.started": "2022-07-26T07:36:58.531507Z"
        },
        "id": "0DSG_tmRMcmd",
        "outputId": "718a51ed-3743-4ff6-be6c-957a7fa69a86",
        "tags": []
      },
      "outputs": [
        {
          "name": "stdout",
          "output_type": "stream",
          "text": [
            "(395, 13)\n",
            "1.1438556741642336 -0.21379576818001317 -0.21379576818001317\n"
          ]
        }
      ],
      "source": [
        "# driver code to test the standardizeData() function\n",
        "Xstd = standardizeDataset(X)\n",
        "print(Xstd.shape)\n",
        "print(Xstd[10, 1], Xstd[1, 12], Xstd[177, 12])"
      ]
    },
    {
      "cell_type": "code",
      "execution_count": null,
      "metadata": {
        "execution": {
          "iopub.execute_input": "2022-07-26T07:36:58.546057Z",
          "iopub.status.busy": "2022-07-26T07:36:58.545640Z",
          "iopub.status.idle": "2022-07-26T07:36:58.557820Z",
          "shell.execute_reply": "2022-07-26T07:36:58.557238Z",
          "shell.execute_reply.started": "2022-07-26T07:36:58.546026Z"
        },
        "id": "XhOLIxGHH6KT",
        "tags": []
      },
      "outputs": [],
      "source": [
        "# function to compute the Euclidean Distance between two samples in the dataset\n",
        "def euclideanDist(x1, x2):\n",
        "    \"\"\"\n",
        "  x1: numpy array, shape = [D]\n",
        "  x2: numpy array, shape = [D]\n",
        "  RETURN\n",
        "    dist: float value\n",
        "  \"\"\"\n",
        "    dist = 0\n",
        "    ## start your code here\n",
        "    dist = np.sqrt(np.sum(np.square(x1-x2)))\n",
        "        \n",
        "    ## end\n",
        "    return dist"
      ]
    },
    {
      "cell_type": "code",
      "execution_count": null,
      "metadata": {
        "colab": {
          "base_uri": "https://localhost:8080/"
        },
        "execution": {
          "iopub.execute_input": "2022-07-26T07:36:58.558877Z",
          "iopub.status.busy": "2022-07-26T07:36:58.558713Z",
          "iopub.status.idle": "2022-07-26T07:36:58.572897Z",
          "shell.execute_reply": "2022-07-26T07:36:58.571926Z",
          "shell.execute_reply.started": "2022-07-26T07:36:58.558857Z"
        },
        "id": "wJhUMOSTOW6n",
        "outputId": "f7350b4d-41cc-482f-d652-da13000100f7",
        "tags": []
      },
      "outputs": [
        {
          "name": "stdout",
          "output_type": "stream",
          "text": [
            "0.0\n",
            "4.896159058868691\n",
            "4.6033105421051435\n",
            "5.750017331257644\n",
            "4.170247533567128\n",
            "3.633922810555552\n",
            "4.861589168992987\n",
            "5.866767578041756\n",
            "4.6434620083748746\n",
            "4.367502847616258\n"
          ]
        }
      ],
      "source": [
        "# driver code to test the euclideanDist() function\n",
        "indx = [1, 10, 20, 60, 80, 90, 110, 140, 160, 169]\n",
        "for i in indx:\n",
        "    print(euclideanDist(Xstd[1, :], Xstd[i, :]))"
      ]
    },
    {
      "cell_type": "code",
      "execution_count": null,
      "metadata": {
        "execution": {
          "iopub.execute_input": "2022-07-26T07:36:58.574152Z",
          "iopub.status.busy": "2022-07-26T07:36:58.573861Z",
          "iopub.status.idle": "2022-07-26T07:36:58.589306Z",
          "shell.execute_reply": "2022-07-26T07:36:58.588530Z",
          "shell.execute_reply.started": "2022-07-26T07:36:58.574128Z"
        },
        "id": "ptsENRpDY1Yg",
        "tags": []
      },
      "outputs": [],
      "source": [
        "# function to get the most similar K neighbors and its classes\n",
        "def kNearestNeighbors(X, y, Xtest, K):\n",
        "    \"\"\"\n",
        "  X: numpy array, shape = [N, D]\n",
        "  y: numpy array, shape = [N]\n",
        "  Xtest: numpy array, shape = [D]\n",
        "  K: float value\n",
        "  RETURN\n",
        "    Xng: numpy array, shape = [K, D]\n",
        "    yng: numpy array, shape = [K]\n",
        "  \"\"\"\n",
        "    Xng, yng = None, None\n",
        "    ## start your code here\n",
        "      ### calculate the distance between Xtest and every sample in X\n",
        "    Xng, yng = [], []\n",
        "    dlist = []\n",
        "    for i in X:\n",
        "      dist = euclideanDist(Xtest,i)\n",
        "      dlist += [dist,]\n",
        "    \n",
        "      ### get the first K similar X data and the corresponding class value y\n",
        "    a = np.argsort(dlist)[:K]\n",
        "    for i in a: \n",
        "      Xng += [X[i],]\n",
        "      yng += [y[i],]\n",
        "    Xng = np.array(Xng)\n",
        "    yng = np.array(yng)\n",
        "    \n",
        "    ## end\n",
        "    return Xng, yng"
      ]
    },
    {
      "cell_type": "code",
      "execution_count": null,
      "metadata": {
        "colab": {
          "base_uri": "https://localhost:8080/"
        },
        "execution": {
          "iopub.execute_input": "2022-07-26T07:36:58.590559Z",
          "iopub.status.busy": "2022-07-26T07:36:58.590202Z",
          "iopub.status.idle": "2022-07-26T07:36:58.607354Z",
          "shell.execute_reply": "2022-07-26T07:36:58.606722Z",
          "shell.execute_reply.started": "2022-07-26T07:36:58.590536Z"
        },
        "id": "_-QYQHoiIQik",
        "outputId": "af76ce6f-453c-49db-89e1-dd6c5e8950ff",
        "tags": []
      },
      "outputs": [
        {
          "name": "stdout",
          "output_type": "stream",
          "text": [
            "[[-0.55  1.14  1.36 -0.64 -1.24 -0.45  0.06  1.77  1.7   3.96  2.11  0.32\n",
            "   1.04]\n",
            " [-0.55  1.14  1.36 -0.64 -0.04 -0.45  0.06  0.77  1.7   3.96  2.11  1.04\n",
            "   1.29]\n",
            " [-0.55  0.23  0.44 -0.64 -0.04  0.9   0.06  1.77  1.7   2.83  1.33  1.04\n",
            "  -0.21]\n",
            " [ 0.24  1.14  1.36 -0.64 -0.04 -0.45  1.18 -0.24  1.7   2.83  2.11 -0.4\n",
            "   0.91]\n",
            " [ 0.24  1.14  0.44  0.79 -0.04 -0.45  0.06  0.77  0.8   2.83  1.33  0.32\n",
            "  -0.21]]\n",
            "[ 5. 11. 12. 13.  9.]\n"
          ]
        }
      ],
      "source": [
        "# driver code to test the getNeighbors() function\n",
        "K = 5\n",
        "test = 100\n",
        "Xtest = Xstd[test]\n",
        "ytest = y[test]\n",
        "\n",
        "Xng, yng = kNearestNeighbors(Xstd, y, Xtest, K)\n",
        "\n",
        "# print the K neighbors X and y values\n",
        "print(Xng)\n",
        "print(yng)"
      ]
    },
    {
      "cell_type": "code",
      "execution_count": null,
      "metadata": {
        "execution": {
          "iopub.execute_input": "2022-07-26T07:42:48.372691Z",
          "iopub.status.busy": "2022-07-26T07:42:48.372406Z",
          "iopub.status.idle": "2022-07-26T07:42:48.389489Z",
          "shell.execute_reply": "2022-07-26T07:42:48.388546Z",
          "shell.execute_reply.started": "2022-07-26T07:42:48.372666Z"
        },
        "id": "U0p96_bl2kKo",
        "tags": []
      },
      "outputs": [],
      "source": [
        "# function to implement KNN classifier a given test case, i.e., you will predict\n",
        "# the grade of a student, given its 13 attributes.\n",
        "\n",
        "\n",
        "def KNNClassifier(X, y, Xtest, K):\n",
        "    \"\"\"\n",
        "  X: shape = [N, D]\n",
        "  y: shape = [N]\n",
        "  Xtest: shape\n",
        "  K: float value\n",
        "  RETURN\n",
        "    output_class: float value from {1, 2, 3}\n",
        "  \"\"\"\n",
        "    output_class = None\n",
        "    ## start your code here\n",
        "    Xng,yng = kNearestNeighbors(Xstd,y,Xtest, K)\n",
        "    output_class = yng[0]\n",
        "    \n",
        "    ## end\n",
        "    return output_class"
      ]
    },
    {
      "cell_type": "code",
      "execution_count": null,
      "metadata": {
        "colab": {
          "base_uri": "https://localhost:8080/"
        },
        "execution": {
          "iopub.execute_input": "2022-07-26T07:43:05.373435Z",
          "iopub.status.busy": "2022-07-26T07:43:05.373145Z",
          "iopub.status.idle": "2022-07-26T07:43:05.447363Z",
          "shell.execute_reply": "2022-07-26T07:43:05.446831Z",
          "shell.execute_reply.started": "2022-07-26T07:43:05.373400Z"
        },
        "id": "tzeZ25GuvDn2",
        "outputId": "9783d063-3b3f-4c64-a664-ad62b8a5ffed",
        "tags": []
      },
      "outputs": [
        {
          "name": "stdout",
          "output_type": "stream",
          "text": [
            "Predicted class for test data by KNN:  [10.  6.  0.  8.  0.  9. 16.  7. 10.  9.]\n",
            "Actual class for test data from dataset:  [10.  6.  0.  8.  0.  9. 16.  7. 10.  9.]\n"
          ]
        }
      ],
      "source": [
        "# load the original training data\n",
        "\n",
        "X, y = load_student_data(filename)\n",
        "\n",
        "# standardize the data\n",
        "Xstd = standardizeDataset(X)\n",
        "\n",
        "# We shall consider the last 10 data points from the dataset as our test data\n",
        "\n",
        "# split the X and y from the test data\n",
        "Xtest = Xstd[-10:, :]\n",
        "ytest = y[-10:]\n",
        "\n",
        "# compute final grade for the students in the test data using KNN\n",
        "K = 3\n",
        "predictions = np.empty(len(ytest))\n",
        "\n",
        "for i in range(Xtest.shape[0]):\n",
        "    output = KNNClassifier(Xstd, y, Xtest[i], K)\n",
        "    predictions[i] = output\n",
        "\n",
        "print(\"Predicted class for test data by KNN: \", predictions)\n",
        "print(\"Actual class for test data from dataset: \", ytest)"
      ]
    },
    {
      "cell_type": "code",
      "execution_count": null,
      "metadata": {
        "execution": {
          "iopub.execute_input": "2022-07-26T07:36:58.696337Z",
          "iopub.status.busy": "2022-07-26T07:36:58.695586Z",
          "iopub.status.idle": "2022-07-26T07:36:58.714561Z",
          "shell.execute_reply": "2022-07-26T07:36:58.713403Z",
          "shell.execute_reply.started": "2022-07-26T07:36:58.696298Z"
        },
        "id": "fMxdK_N0VRsd",
        "tags": []
      },
      "outputs": [],
      "source": [
        "# function to calculate the accuaracy of prediction in percentage\n",
        "def accuracy_percentage(actual_class, predicted_class):\n",
        "    \"\"\"\n",
        "  actual_class: numpy array, shape = [N]\n",
        "  prediceted_class: numpy array, shape = [N]\n",
        "  RETURN\n",
        "    percent: float value\n",
        "  \"\"\"\n",
        "    percent = 0\n",
        "    ## start your code here\n",
        "    accurate = 0\n",
        "    i=0\n",
        "    while i <len(actual_class):\n",
        "      if actual_class[i] == predicted_class[i]:\n",
        "        accurate += 1\n",
        "      i+=1\n",
        "    percent = (accurate/ len(predicted_class)) * 100 \n",
        "    \n",
        "    \n",
        "    ## end\n",
        "    return percent"
      ]
    },
    {
      "cell_type": "code",
      "execution_count": null,
      "metadata": {
        "colab": {
          "base_uri": "https://localhost:8080/"
        },
        "execution": {
          "iopub.execute_input": "2022-07-26T07:36:58.719139Z",
          "iopub.status.busy": "2022-07-26T07:36:58.718703Z",
          "iopub.status.idle": "2022-07-26T07:36:58.728175Z",
          "shell.execute_reply": "2022-07-26T07:36:58.727599Z",
          "shell.execute_reply.started": "2022-07-26T07:36:58.719114Z"
        },
        "id": "9eseATZMWXVv",
        "outputId": "3f26294a-d204-4398-dbaa-3161abd49bda",
        "tags": []
      },
      "outputs": [
        {
          "name": "stdout",
          "output_type": "stream",
          "text": [
            "Accuracy 100.0%\n"
          ]
        }
      ],
      "source": [
        "print(\"Accuracy {}%\".format(accuracy_percentage(predictions, ytest)))"
      ]
    },
    {
      "cell_type": "code",
      "execution_count": null,
      "metadata": {
        "colab": {
          "base_uri": "https://localhost:8080/"
        },
        "execution": {
          "iopub.execute_input": "2022-07-26T07:36:58.729817Z",
          "iopub.status.busy": "2022-07-26T07:36:58.729370Z",
          "iopub.status.idle": "2022-07-26T07:36:58.853719Z",
          "shell.execute_reply": "2022-07-26T07:36:58.852994Z",
          "shell.execute_reply.started": "2022-07-26T07:36:58.729740Z"
        },
        "id": "7kkR3TtQ5xIO",
        "outputId": "0449ba20-78f4-4a58-8866-d305ff3ad6c7",
        "tags": []
      },
      "outputs": [
        {
          "name": "stdout",
          "output_type": "stream",
          "text": [
            "Predicted class with standardization:  [15.  0. 18. 11. 15.  9. 12.  0.  6. 12.  8.  0. 15.]\n",
            "Predicted class without standardization:  [18.  8.  8.  9. 15.  8.  9.  9.  8. 15.  9. 15.  8.]\n",
            "Actual class for test data:  [15.  0. 18. 11. 15.  9. 12.  0.  6. 12.  8.  0. 15.]\n",
            "Accuracy of KNN with standardization:  100.0\n",
            "Accuracy of KNN without standardization:  7.6923076923076925\n"
          ]
        }
      ],
      "source": [
        "# load the original training data\n",
        "X, y = load_student_data(filename)\n",
        "\n",
        "# standardize the data\n",
        "Xstd = standardizeDataset(X)\n",
        "\n",
        "# randomly choosen data from X and Xstd dataset\n",
        "# X - dataset that is not standardized\n",
        "# Xstd - standardized dataset\n",
        "# In both cases, the class value y is unchanged\n",
        "random_indx = np.asarray([9, 153, 91, 29, 20, 10, 138, 130, 1, 11, 25, 137, 120])\n",
        "testX = X[random_indx]\n",
        "testXstd = Xstd[random_indx]\n",
        "testy = y[random_indx]\n",
        "\n",
        "\n",
        "# compute final grade for the students in the test data using KNN\n",
        "K = 3\n",
        "predictedNoStd = np.empty(len(testy))\n",
        "predictedStd = np.empty(len(testy))\n",
        "\n",
        "# predict the classes for test data with standardization of input and test data\n",
        "# predictedNoStd - has the classes predicted for test data without standardization\n",
        "# predictedStd - has the classes predicted for test data with standardization\n",
        "\n",
        "# call KNN without standardized dataset and test data testX. Record the predicated\n",
        "# class in predictedNoStd numpy array\n",
        "\n",
        "# you need to write your code here\n",
        "count = 0\n",
        "for test in testX:\n",
        "    predictedNoStd[count] = KNNClassifier(X, y, test, K)\n",
        "    count += 1\n",
        "\n",
        "# call KNN with standardized dataset and test data testXStd. Record the predicated\n",
        "# class in predictedStd numpy array\n",
        "\n",
        "# you need to write your code here\n",
        "count = 0\n",
        "for test in testXstd:\n",
        "    predictedStd[count] = KNNClassifier(Xstd, y, test, K)\n",
        "    count += 1\n",
        "\n",
        "# print the classes predicted classes and the actual classes for the test data\n",
        "print(\"Predicted class with standardization: \", predictedStd)\n",
        "print(\"Predicted class without standardization: \", predictedNoStd)\n",
        "print(\"Actual class for test data: \", testy)\n",
        "\n",
        "# print the accuracy of KNN with and without standardizing dataset\n",
        "# you need to write your code here\n",
        "print(\n",
        "    \"Accuracy of KNN with standardization: \", accuracy_percentage(testy, predictedStd)\n",
        ")\n",
        "print(\n",
        "    \"Accuracy of KNN without standardization: \",\n",
        "    accuracy_percentage(testy, predictedNoStd),\n",
        ")"
      ]
    }
  ],
  "metadata": {
    "colab": {
      "collapsed_sections": [
        "zd9niaSd9xPA",
        "CebHevdOGnr7"
      ],
      "provenance": []
    },
    "kernelspec": {
      "display_name": "Python 3 (ipykernel)",
      "language": "python",
      "name": "python3"
    },
    "language_info": {
      "codemirror_mode": {
        "name": "ipython",
        "version": 3
      },
      "file_extension": ".py",
      "mimetype": "text/x-python",
      "name": "python",
      "nbconvert_exporter": "python",
      "pygments_lexer": "ipython3",
      "version": "3.9.5"
    }
  },
  "nbformat": 4,
  "nbformat_minor": 0
}
